{
 "cells": [
  {
   "cell_type": "markdown",
   "metadata": {},
   "source": [
    "# Program 1\n",
    "### Write a python program to print \" Hello Data Deep Decode \"."
   ]
  },
  {
   "cell_type": "code",
   "execution_count": 5,
   "metadata": {},
   "outputs": [
    {
     "name": "stdout",
     "output_type": "stream",
     "text": [
      "Hello Data Deep Decode \n"
     ]
    }
   ],
   "source": [
    "print('Hello Data Deep Decode ')"
   ]
  },
  {
   "cell_type": "markdown",
   "metadata": {},
   "source": [
    "# Program # 2\n",
    "### Write a python program to do operations addition and division"
   ]
  },
  {
   "cell_type": "code",
   "execution_count": 8,
   "metadata": {},
   "outputs": [
    {
     "name": "stdout",
     "output_type": "stream",
     "text": [
      "sum : 4 + 3 = 7 \n"
     ]
    }
   ],
   "source": [
    "# Addition\n",
    "\n",
    "num1 = int(input('Enter the first number for addition:'))\n",
    "num2 = int(input('Enter the second number for addition:'))\n",
    "result = num1 + num2\n",
    "print(f'sum : {num1} + {num2} = {result} ')\n"
   ]
  },
  {
   "cell_type": "code",
   "execution_count": 9,
   "metadata": {},
   "outputs": [
    {
     "name": "stdout",
     "output_type": "stream",
     "text": [
      "Division : 4 / 2 = 2.0\n"
     ]
    }
   ],
   "source": [
    "# Devision\n",
    "num3 = int(input('Enter the first number for addition:'))\n",
    "num4 = int(input('Enter the second number for addition:'))\n",
    "if num4 == 0:\n",
    "    print('Error : Division by zero is not allowed')\n",
    "else:\n",
    "    div_result = num3 / num4\n",
    "    print(f'Division : {num3} / {num4} = {div_result}')\n"
   ]
  },
  {
   "cell_type": "code",
   "execution_count": null,
   "metadata": {},
   "outputs": [],
   "source": []
  }
 ],
 "metadata": {
  "kernelspec": {
   "display_name": "tmp",
   "language": "python",
   "name": "python3"
  },
  "language_info": {
   "codemirror_mode": {
    "name": "ipython",
    "version": 3
   },
   "file_extension": ".py",
   "mimetype": "text/x-python",
   "name": "python",
   "nbconvert_exporter": "python",
   "pygments_lexer": "ipython3",
   "version": "3.10.15"
  }
 },
 "nbformat": 4,
 "nbformat_minor": 2
}
